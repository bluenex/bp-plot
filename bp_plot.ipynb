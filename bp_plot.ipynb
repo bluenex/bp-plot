{
 "cells": [
  {
   "cell_type": "code",
   "execution_count": null,
   "metadata": {},
   "outputs": [],
   "source": [
    "raw_text = '''\n",
    "\n",
    "'''"
   ]
  },
  {
   "cell_type": "code",
   "execution_count": null,
   "metadata": {},
   "outputs": [],
   "source": [
    "import pandas as pd\n",
    "import numpy as np\n",
    "import matplotlib.pyplot as plt\n",
    "import re\n",
    "%matplotlib inline"
   ]
  },
  {
   "cell_type": "code",
   "execution_count": null,
   "metadata": {},
   "outputs": [],
   "source": [
    "def item_parser(item):\n",
    "    # remove number in parentheses\n",
    "    item = re.sub(r' \\([0-9]+\\)', '', item)\n",
    "    # remove p (pulse)\n",
    "    item = re.sub(r' p', ', ', item)\n",
    "    # remove / between systolic and diastolic\n",
    "    item = re.sub(r'/', ', ', item)\n",
    "    # change year from buddhist to christ\n",
    "    item = re.sub(r'-61', '-18', item)\n",
    "    # split each item at ,\n",
    "    return item.split(',')\n",
    "\n",
    "def raw_parser(raw_text):\n",
    "    # split line of long text, and filter None, '' out\n",
    "    # then parse each line with above function\n",
    "    return list(map(lambda x: item_parser(x), list(filter(None, raw_text.splitlines()))))"
   ]
  },
  {
   "cell_type": "code",
   "execution_count": null,
   "metadata": {},
   "outputs": [],
   "source": [
    "# parse raw text\n",
    "parsed = raw_parser(raw_text)\n",
    "# define columns name\n",
    "cols = ['date', 'sys-1', 'dia-1', 'pul-1', 'sys-2', 'dia-2', 'pul-2']"
   ]
  },
  {
   "cell_type": "code",
   "execution_count": null,
   "metadata": {},
   "outputs": [],
   "source": [
    "# put data into dataframe\n",
    "bp_df = pd.DataFrame(parsed, columns=cols)\n",
    "# comvert date into datetime format\n",
    "bp_df.date = bp_df.date.apply(lambda d: pd.to_datetime(d, dayfirst=True))\n",
    "# bp_df.append(bp_df.agg(['sum', 'mean']))"
   ]
  },
  {
   "cell_type": "code",
   "execution_count": null,
   "metadata": {},
   "outputs": [],
   "source": [
    "# convert the rest columns into numeric (skip datetime)\n",
    "bp_df[bp_df.columns[1:]] = bp_df[bp_df.columns[1:]].apply(pd.to_numeric)\n",
    "# create new columns as avg of each value\n",
    "bp_df['sys-avg'] = bp_df[['sys-1', 'sys-2']].mean(axis=1)\n",
    "bp_df['dia-avg'] = bp_df[['dia-1', 'dia-2']].mean(axis=1)\n",
    "bp_df['pul-avg'] = bp_df[['pul-1', 'pul-2']].mean(axis=1)\n",
    "# find mean of each value\n",
    "means = bp_df[['sys-avg', 'dia-avg', 'pul-avg']].mean()\n",
    "# plot with some settings\n",
    "ax = bp_df[['sys-avg', 'dia-avg', 'pul-avg']].plot(\n",
    "    grid=True,\n",
    "    figsize=(18,9),\n",
    "    xticks=bp_df.index,\n",
    "    fontsize=16,\n",
    "    rot=45,\n",
    "    color=['C0','C1','C2']\n",
    ")\n",
    "# add datetime as xticks\n",
    "ax.set_xticklabels(bp_df.date.dt.strftime('%d-%m-%Y'))\n",
    "# fix legend size\n",
    "ax.legend(prop={'size': 16})\n",
    "# plot static horizontal lines indicated mean of each value by color\n",
    "ax.axhline(y=means['sys-avg'], color='C0', linestyle='dashed')\n",
    "ax.axhline(y=means['dia-avg'], color='C1', linestyle='dashed')\n",
    "ax.axhline(y=means['pul-avg'], color='C2', linestyle='dashed')"
   ]
  },
  {
   "cell_type": "code",
   "execution_count": null,
   "metadata": {},
   "outputs": [],
   "source": [
    "# show overall data\n",
    "bp_df"
   ]
  },
  {
   "cell_type": "code",
   "execution_count": null,
   "metadata": {},
   "outputs": [],
   "source": [
    "# show mean\n",
    "means"
   ]
  }
 ],
 "metadata": {
  "kernelspec": {
   "display_name": "Python 3",
   "language": "python",
   "name": "python3"
  },
  "language_info": {
   "codemirror_mode": {
    "name": "ipython",
    "version": 3
   },
   "file_extension": ".py",
   "mimetype": "text/x-python",
   "name": "python",
   "nbconvert_exporter": "python",
   "pygments_lexer": "ipython3",
   "version": "3.6.2"
  }
 },
 "nbformat": 4,
 "nbformat_minor": 2
}
